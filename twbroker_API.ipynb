{
 "cells": [
  {
   "cell_type": "markdown",
   "metadata": {},
   "source": [
    "# Check if download complete"
   ]
  },
  {
   "cell_type": "code",
   "execution_count": 1,
   "metadata": {
    "scrolled": true
   },
   "outputs": [
    {
     "name": "stdout",
     "output_type": "stream",
     "text": [
      "1475 StockCodeInfo(type='股票', code='1475', name='本盟', ISIN='TW0001475002', start='2000/10/27', market='上市', group='紡織纖維', CFI='ESVUFR')\n",
      "2241 StockCodeInfo(type='股票', code='2241', name='艾姆勒', ISIN='TW0002241007', start='2020/08/26', market='上市', group='電機機械', CFI='ESVUFR')\n",
      "2499 StockCodeInfo(type='股票', code='2499', name='東貝', ISIN='TW0002499001', start='2002/02/19', market='上市', group='光電業', CFI='ESVUFR')\n",
      "4571 StockCodeInfo(type='股票', code='4571', name='鈞興-KY', ISIN='KYG5258M1024', start='2019/09/17', market='上市', group='電機機械', CFI='ESVUFR')\n",
      "6754 StockCodeInfo(type='股票', code='6754', name='匯僑設計', ISIN='TW0006754005', start='2020/08/25', market='上市', group='其他業', CFI='ESVUFR')\n",
      "8427 StockCodeInfo(type='股票', code='8427', name='基勝-KY', ISIN='KYG525341072', start='2011/12/06', market='上市', group='其他業', CFI='ESVUFR')\n"
     ]
    }
   ],
   "source": [
    "from codes import codes\n",
    "import time\n",
    "import random\n",
    "\n",
    "import os\n",
    "\n",
    "filename=os.listdir('TWSE/20200723')\n",
    "code_cap=[]\n",
    "for _file in filename:\n",
    "    code_cap.append(_file[0:4])\n",
    "\n",
    "for code,v in codes.items():\n",
    "    if v.type==\"股票\" and v.market==\"上市\":\n",
    "        if code not in code_cap:\n",
    "            print(code, v)"
   ]
  },
  {
   "cell_type": "markdown",
   "metadata": {},
   "source": [
    "# update code"
   ]
  },
  {
   "cell_type": "code",
   "execution_count": 2,
   "metadata": {},
   "outputs": [],
   "source": [
    "from codes import fetch\n",
    "fetch.__update_codes()"
   ]
  },
  {
   "cell_type": "markdown",
   "metadata": {},
   "source": [
    "# TWSE Broker Info"
   ]
  },
  {
   "cell_type": "code",
   "execution_count": 3,
   "metadata": {},
   "outputs": [
    {
     "data": {
      "text/plain": [
       "'2020-09-30'"
      ]
     },
     "execution_count": 3,
     "metadata": {},
     "output_type": "execute_result"
    }
   ],
   "source": [
    "from datetime import datetime, timedelta\n",
    "datetime.today().date().isoformat()"
   ]
  },
  {
   "cell_type": "code",
   "execution_count": 4,
   "metadata": {},
   "outputs": [
    {
     "data": {
      "text/plain": [
       "20"
      ]
     },
     "execution_count": 4,
     "metadata": {},
     "output_type": "execute_result"
    }
   ],
   "source": [
    "datetime.today().hour"
   ]
  },
  {
   "cell_type": "markdown",
   "metadata": {},
   "source": [
    "# Check undowload"
   ]
  },
  {
   "cell_type": "code",
   "execution_count": 7,
   "metadata": {},
   "outputs": [
    {
     "name": "stdout",
     "output_type": "stream",
     "text": [
      "complete!!\n"
     ]
    }
   ],
   "source": [
    "from fetchbroker import fetchbroker\n",
    "from codes import codes\n",
    "import time\n",
    "import random\n",
    "import os\n",
    "from requests.exceptions import ConnectionError\n",
    "\n",
    "\n",
    "if datetime.today().hour > 16: #16:00 update new data\n",
    "    csvpath='./TWSE/'+datetime.today().date().isoformat()\n",
    "else:\n",
    "    csvpath='./TWSE/'+(datetime.today()- timedelta(days=1)).date().isoformat()\n",
    "\n",
    "if not os.path.exists(csvpath):\n",
    "    os.mkdir(csvpath)\n",
    "\n",
    "\n",
    "def dlcheck(csvpath):\n",
    "    filename=os.listdir(csvpath)\n",
    "    code_cap=[]\n",
    "    for _file in filename:\n",
    "        code_cap.append(_file[0:4])\n",
    "    \n",
    "    undownload=[]\n",
    "    for code, v in codes.items():\n",
    "        if v.type==\"股票\" and v.market==\"上市\":\n",
    "            fc='{}'.format(code)\n",
    "            if fc not in code_cap:\n",
    "                undownload.append(fc)\n",
    "            #print('undownloaded:{}'.format(fc))\n",
    "            \n",
    "    try:\n",
    "        #content=[]\n",
    "        with open(csvpath+'/log.txt', 'r', encoding=\"utf-8\") as f:\n",
    "            sid=f.readlines()\n",
    "        sidlist=[]\n",
    "        for _sid in sid:\n",
    "            sidlist.append(_sid[:4])\n",
    "        #print(sidlist)\n",
    "        undownload = set(undownload).difference(set(sidlist))\n",
    "            \n",
    "    except FileNotFoundError:\n",
    "        pass\n",
    "    \n",
    "    \n",
    "    \n",
    "    return undownload\n",
    "\n",
    "\n",
    "undownload=dlcheck(csvpath)\n",
    "\n",
    "#print(undownload)\n",
    "\n",
    "\n",
    "\n",
    "cycle=0\n",
    "while len(undownload)!=0:\n",
    "    cycle+=1\n",
    "    print('downloading cycle:', cycle )\n",
    "    for sid in undownload:\n",
    "        try:\n",
    "            stock=fetchbroker(sid, csvpath)\n",
    "            stock.fetch()\n",
    "            time.sleep(random.uniform(2,5))\n",
    "        except ConnectionError:\n",
    "            undownload=dlcheck(csvpath)\n",
    "            print('ConnectionError')\n",
    "            #break\n",
    "            time.sleep(120)\n",
    "            continue\n",
    "                \n",
    "    undownload=dlcheck(csvpath)\n",
    "    print('undownlowed count:', len(undownload))           \n",
    "\n",
    "print('complete!!')"
   ]
  },
  {
   "cell_type": "code",
   "execution_count": null,
   "metadata": {
    "scrolled": true
   },
   "outputs": [],
   "source": []
  },
  {
   "cell_type": "code",
   "execution_count": null,
   "metadata": {},
   "outputs": [],
   "source": []
  },
  {
   "cell_type": "code",
   "execution_count": null,
   "metadata": {},
   "outputs": [],
   "source": []
  }
 ],
 "metadata": {
  "kernelspec": {
   "display_name": "Python 3",
   "language": "python",
   "name": "python3"
  },
  "language_info": {
   "codemirror_mode": {
    "name": "ipython",
    "version": 3
   },
   "file_extension": ".py",
   "mimetype": "text/x-python",
   "name": "python",
   "nbconvert_exporter": "python",
   "pygments_lexer": "ipython3",
   "version": "3.7.7"
  }
 },
 "nbformat": 4,
 "nbformat_minor": 2
}
