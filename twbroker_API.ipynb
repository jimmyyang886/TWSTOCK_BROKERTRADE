{
 "cells": [
  {
   "cell_type": "markdown",
   "metadata": {},
   "source": [
    "# Check if download complete"
   ]
  },
  {
   "cell_type": "code",
   "execution_count": 1,
   "metadata": {
    "scrolled": true
   },
   "outputs": [
    {
     "ename": "FileNotFoundError",
     "evalue": "[WinError 3] 系統找不到指定的路徑。: '20200723'",
     "output_type": "error",
     "traceback": [
      "\u001b[1;31m---------------------------------------------------------------------------\u001b[0m",
      "\u001b[1;31mFileNotFoundError\u001b[0m                         Traceback (most recent call last)",
      "\u001b[1;32m<ipython-input-1-a250ab4850a7>\u001b[0m in \u001b[0;36m<module>\u001b[1;34m\u001b[0m\n\u001b[0;32m      5\u001b[0m \u001b[1;32mimport\u001b[0m \u001b[0mos\u001b[0m\u001b[1;33m\u001b[0m\u001b[1;33m\u001b[0m\u001b[0m\n\u001b[0;32m      6\u001b[0m \u001b[1;33m\u001b[0m\u001b[0m\n\u001b[1;32m----> 7\u001b[1;33m \u001b[0mfilename\u001b[0m\u001b[1;33m=\u001b[0m\u001b[0mos\u001b[0m\u001b[1;33m.\u001b[0m\u001b[0mlistdir\u001b[0m\u001b[1;33m(\u001b[0m\u001b[1;34m'20200723'\u001b[0m\u001b[1;33m)\u001b[0m\u001b[1;33m\u001b[0m\u001b[1;33m\u001b[0m\u001b[0m\n\u001b[0m\u001b[0;32m      8\u001b[0m \u001b[0mcode_cap\u001b[0m\u001b[1;33m=\u001b[0m\u001b[1;33m[\u001b[0m\u001b[1;33m]\u001b[0m\u001b[1;33m\u001b[0m\u001b[1;33m\u001b[0m\u001b[0m\n\u001b[0;32m      9\u001b[0m \u001b[1;32mfor\u001b[0m \u001b[0m_file\u001b[0m \u001b[1;32min\u001b[0m \u001b[0mfilename\u001b[0m\u001b[1;33m:\u001b[0m\u001b[1;33m\u001b[0m\u001b[1;33m\u001b[0m\u001b[0m\n",
      "\u001b[1;31mFileNotFoundError\u001b[0m: [WinError 3] 系統找不到指定的路徑。: '20200723'"
     ]
    }
   ],
   "source": [
    "from codes import codes\n",
    "import time\n",
    "import random\n",
    "\n",
    "import os\n",
    "\n",
    "filename=os.listdir('20200723')\n",
    "code_cap=[]\n",
    "for _file in filename:\n",
    "    code_cap.append(_file[0:4])\n",
    "\n",
    "for code,v in codes.items():\n",
    "    if v.type==\"股票\" and v.market==\"上市\":\n",
    "        if code not in code_cap:\n",
    "            print(code, v)"
   ]
  },
  {
   "cell_type": "markdown",
   "metadata": {},
   "source": [
    "# update code"
   ]
  },
  {
   "cell_type": "code",
   "execution_count": null,
   "metadata": {},
   "outputs": [],
   "source": [
    "from codes import fetch\n",
    "fetch.__update_codes()"
   ]
  },
  {
   "cell_type": "markdown",
   "metadata": {},
   "source": [
    "# TWSE Broker Info"
   ]
  },
  {
   "cell_type": "code",
   "execution_count": 2,
   "metadata": {
    "scrolled": true
   },
   "outputs": [
    {
     "name": "stdout",
     "output_type": "stream",
     "text": [
      "1475 查無資料\n",
      "2499 查無資料\n",
      "6452 查無資料\n",
      "8427 查無資料\n"
     ]
    }
   ],
   "source": [
    "from fetchbroker import fetchbroker\n",
    "from codes import codes\n",
    "import time\n",
    "import random\n",
    "import os\n",
    "from requests.exceptions import ConnectionError\n",
    "\n",
    "def dlcheck(csvpath):\n",
    "    filename=os.listdir(csvpath)\n",
    "    code_cap=[]\n",
    "    for _file in filename:\n",
    "        code_cap.append(_file[0:4])\n",
    "    return code_cap\n",
    "            \n",
    "\n",
    "csvpath='./上市/20200828'\n",
    "if not os.path.exists(csvpath):\n",
    "    os.mkdir(csvpath)\n",
    "    \n",
    "code_cap=dlcheck(csvpath)\n",
    "                        \n",
    "for code,v in codes.items():\n",
    "    if v.type==\"股票\" and v.market==\"上市\":\n",
    "        try:\n",
    "            if code not in code_cap:\n",
    "                stock=fetchbroker(code, csvpath)\n",
    "                stock.fetch()\n",
    "                time.sleep(random.uniform(2,5))\n",
    "        except ConnectionError:\n",
    "            code_cap=dlcheck(csvpath)\n",
    "            time.sleep(120)\n",
    "            continue"
   ]
  },
  {
   "cell_type": "code",
   "execution_count": null,
   "metadata": {},
   "outputs": [],
   "source": []
  }
 ],
 "metadata": {
  "kernelspec": {
   "display_name": "Python 3",
   "language": "python",
   "name": "python3"
  },
  "language_info": {
   "codemirror_mode": {
    "name": "ipython",
    "version": 3
   },
   "file_extension": ".py",
   "mimetype": "text/x-python",
   "name": "python",
   "nbconvert_exporter": "python",
   "pygments_lexer": "ipython3",
   "version": "3.7.7"
  }
 },
 "nbformat": 4,
 "nbformat_minor": 2
}
